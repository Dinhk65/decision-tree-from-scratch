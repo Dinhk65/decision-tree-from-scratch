{
  "cells": [
    {
      "cell_type": "markdown",
      "id": "12734bf3",
      "metadata": {
        "id": "12734bf3"
      },
      "source": [
        "# 🌳 Giải thích chi tiết thuật toán Decision Tree Classifier (Python)"
      ]
    },
    {
      "cell_type": "markdown",
      "id": "f84aaca1",
      "metadata": {
        "id": "f84aaca1"
      },
      "source": [
        "> Đây là phần chú thích chi tiết từng đoạn code xây dựng `DecisionTreeClassifier` từ scratch bằng Python, dành cho người mới học Machine Learning."
      ]
    },
    {
      "cell_type": "markdown",
      "id": "c621356b",
      "metadata": {
        "id": "c621356b"
      },
      "source": [
        "## Import thư viện"
      ]
    },
    {
      "cell_type": "code",
      "execution_count": 1,
      "id": "d93415d8",
      "metadata": {
        "id": "d93415d8"
      },
      "outputs": [],
      "source": [
        "import numpy as np\n",
        "from collections import Counter"
      ]
    },
    {
      "cell_type": "markdown",
      "id": "37a13470",
      "metadata": {
        "id": "37a13470"
      },
      "source": [
        "- `numpy` được dùng để xử lý mảng dữ liệu số học.\n",
        "- `Counter` là một class từ `collections` giúp đếm tần suất xuất hiện của từng phần tử trong một danh sách."
      ]
    },
    {
      "cell_type": "markdown",
      "id": "b6a56df5",
      "metadata": {
        "id": "b6a56df5"
      },
      "source": [
        "## Lớp Node"
      ]
    },
    {
      "cell_type": "code",
      "execution_count": null,
      "id": "f1ed3cb3",
      "metadata": {
        "id": "f1ed3cb3"
      },
      "outputs": [],
      "source": [
        "class Node:\n",
        "    def __init__(self, feature=None, threshold=None, left=None, right=None, *, value=None):\n",
        "        self.feature = feature          # Chỉ số thuộc tính\n",
        "        self.threshold = threshold      # Ngưỡng chia\n",
        "        self.left = left                # Nhánh trái\n",
        "        self.right = right              # Nhánh phải\n",
        "        self.value = value              # Nhãn nếu là node lá\n",
        "\n",
        "    def is_leaf_node(self):\n",
        "        return self.value is not None"
      ]
    },
    {
      "cell_type": "markdown",
      "id": "6c137115",
      "metadata": {
        "id": "6c137115"
      },
      "source": [
        "- Mỗi `Node` biểu diễn một nút trong cây quyết định.\n",
        "- Nếu là node lá (leaf node), nó chỉ lưu `value` là nhãn dự đoán.\n",
        "- Nếu là node quyết định (decision node), nó lưu thông tin chia: `feature`, `threshold`, `left`, `right`."
      ]
    },
    {
      "cell_type": "markdown",
      "id": "8a0aedc6",
      "metadata": {
        "id": "8a0aedc6"
      },
      "source": [
        "## Lớp DecisionTreeClassifier"
      ]
    },
    {
      "cell_type": "code",
      "execution_count": null,
      "id": "f9576da0",
      "metadata": {
        "id": "f9576da0"
      },
      "outputs": [],
      "source": [
        "class DecisionTreeClassifier:\n",
        "    def __init__(self, max_depth=10, min_samples_split=2):\n",
        "        self.max_depth = max_depth\n",
        "        self.min_samples_split = min_samples_split\n",
        "        self.root = None\n"
      ]
    },
    {
      "cell_type": "markdown",
      "id": "121e3613",
      "metadata": {
        "id": "121e3613"
      },
      "source": [
        "- Đây là class chính để xây dựng cây phân loại.\n",
        "- Có 2 siêu tham số (`hyperparameters`) quan trọng:\n",
        "  - `max_depth`: kiểm soát overfitting bằng cách giới hạn độ sâu.\n",
        "  - `min_samples_split`: nếu số mẫu nhỏ hơn ngưỡng này thì không chia nữa."
      ]
    },
    {
      "cell_type": "markdown",
      "id": "f75eb545",
      "metadata": {
        "id": "f75eb545"
      },
      "source": [
        "## Hàm fit và grow tree"
      ]
    },
    {
      "cell_type": "code",
      "execution_count": null,
      "id": "5bac0898",
      "metadata": {
        "id": "5bac0898"
      },
      "outputs": [],
      "source": [
        "    def fit(self, X, y):\n",
        "        self.root = self._grow_tree(X, y)\n",
        "\n",
        "    def _grow_tree(self, X, y, depth=0):\n",
        "        num_samples, num_features = X.shape\n",
        "        num_labels = len(set(y))\n",
        "\n",
        "        # Điều kiện dừng\n",
        "        if (depth >= self.max_depth or num_labels == 1 or num_samples < self.min_samples_split):\n",
        "            leaf_value = self._most_common_label(y)\n",
        "            return Node(value=leaf_value)\n",
        "\n",
        "        # Tìm chia tốt nhất\n",
        "        best_feat, best_thresh = self._best_split(X, y, num_features)\n",
        "        if best_feat is None:\n",
        "            leaf_value = self._most_common_label(y)\n",
        "            return Node(value=leaf_value)\n",
        "\n",
        "        # Chia tập\n",
        "        left_idxs = X[:, best_feat] <= best_thresh\n",
        "        right_idxs = X[:, best_feat] > best_thresh\n",
        "\n",
        "        left = self._grow_tree(X[left_idxs], y[left_idxs], depth + 1)\n",
        "        right = self._grow_tree(X[right_idxs], y[right_idxs], depth + 1)\n",
        "\n",
        "        return Node(best_feat, best_thresh, left, right)\n"
      ]
    },
    {
      "cell_type": "markdown",
      "id": "154bf254",
      "metadata": {
        "id": "154bf254"
      },
      "source": [
        "- Hàm `fit` bắt đầu huấn luyện cây bằng cách gọi `_grow_tree`.\n",
        "- `_grow_tree` là hàm đệ quy để xây dựng cây từ dữ liệu huấn luyện.\n",
        "- Dừng khi:\n",
        "  - Đạt độ sâu tối đa.\n",
        "  - Tập dữ liệu chỉ còn 1 nhãn.\n",
        "  - Quá ít mẫu để chia tiếp."
      ]
    },
    {
      "cell_type": "markdown",
      "id": "0ba83bf9",
      "metadata": {
        "id": "0ba83bf9"
      },
      "source": [
        "## Tìm chia tốt nhất"
      ]
    },
    {
      "cell_type": "code",
      "execution_count": null,
      "id": "537b867d",
      "metadata": {
        "id": "537b867d"
      },
      "outputs": [],
      "source": [
        "    def _best_split(self, X, y, num_features):\n",
        "        best_gain = -1\n",
        "        split_idx, split_thresh = None, None\n",
        "\n",
        "        for feat_idx in range(num_features):\n",
        "            thresholds = np.unique(X[:, feat_idx])\n",
        "            for threshold in thresholds:\n",
        "                left_idxs = y[X[:, feat_idx] <= threshold]\n",
        "                right_idxs = y[X[:, feat_idx] > threshold]\n",
        "\n",
        "                if len(left_idxs) == 0 or len(right_idxs) == 0:\n",
        "                    continue\n",
        "\n",
        "                gain = self._gini_gain(y, left_idxs, right_idxs)\n",
        "                if gain > best_gain:\n",
        "                    best_gain = gain\n",
        "                    split_idx = feat_idx\n",
        "                    split_thresh = threshold\n",
        "\n",
        "        return split_idx, split_thresh"
      ]
    },
    {
      "cell_type": "markdown",
      "id": "f3849d02",
      "metadata": {
        "id": "f3849d02"
      },
      "source": [
        "- Với mỗi thuộc tính, thử tất cả các ngưỡng có thể chia.\n",
        "- Đánh giá mỗi lần chia bằng chỉ số Gini gain.\n",
        "- Lưu lại chia tốt nhất nếu gain lớn hơn."
      ]
    },
    {
      "cell_type": "markdown",
      "id": "1af92be0",
      "metadata": {
        "id": "1af92be0"
      },
      "source": [
        "## Tính Gini và Gini Gain"
      ]
    },
    {
      "cell_type": "code",
      "execution_count": null,
      "id": "80d04acb",
      "metadata": {
        "id": "80d04acb"
      },
      "outputs": [],
      "source": [
        "    def _gini_gain(self, parent, left, right):\n",
        "        weight_left = len(left) / len(parent)\n",
        "        weight_right = len(right) / len(parent)\n",
        "        return self._gini(parent) - (weight_left * self._gini(left) + weight_right * self._gini(right))\n",
        "\n",
        "    def _gini(self, y):\n",
        "        counts = np.bincount(y)\n",
        "        probs = counts / len(y)\n",
        "        return 1 - np.sum(probs**2)\n"
      ]
    },
    {
      "cell_type": "markdown",
      "id": "96164aa6",
      "metadata": {
        "id": "96164aa6"
      },
      "source": [
        "- `Gini` là chỉ số đo độ hỗn tạp của một tập dữ liệu.\n",
        "- `Gini Gain` đo mức độ giảm hỗn tạp sau khi chia dữ liệu."
      ]
    },
    {
      "cell_type": "markdown",
      "id": "33ede87b",
      "metadata": {
        "id": "33ede87b"
      },
      "source": [
        "## Lấy nhãn phổ biến nhất"
      ]
    },
    {
      "cell_type": "code",
      "execution_count": null,
      "id": "828169d4",
      "metadata": {
        "id": "828169d4"
      },
      "outputs": [],
      "source": [
        "    def _most_common_label(self, y):\n",
        "        counter = Counter(y)\n",
        "        return counter.most_common(1)[0][0]"
      ]
    },
    {
      "cell_type": "markdown",
      "id": "bdc88bfa",
      "metadata": {
        "id": "bdc88bfa"
      },
      "source": [
        "- Dùng khi cần gán nhãn cho node lá.\n",
        "- Lấy nhãn xuất hiện nhiều nhất trong tập y."
      ]
    },
    {
      "cell_type": "markdown",
      "id": "f133d852",
      "metadata": {
        "id": "f133d852"
      },
      "source": [
        "## Hàm dự đoán"
      ]
    },
    {
      "cell_type": "code",
      "execution_count": null,
      "id": "77645fc9",
      "metadata": {
        "id": "77645fc9"
      },
      "outputs": [],
      "source": [
        "    def predict(self, X):\n",
        "        return np.array([self._traverse_tree(x, self.root) for x in X])\n",
        "\n",
        "    def _traverse_tree(self, x, node):\n",
        "        if node.is_leaf_node():\n",
        "            return node.value\n",
        "        if x[node.feature] <= node.threshold:\n",
        "            return self._traverse_tree(x, node.left)\n",
        "        return self._traverse_tree(x, node.right)"
      ]
    },
    {
      "cell_type": "markdown",
      "id": "aeecbf6a",
      "metadata": {
        "id": "aeecbf6a"
      },
      "source": [
        "- Duyệt cây từ gốc đến lá để dự đoán nhãn đầu ra cho mỗi mẫu."
      ]
    },
    {
      "cell_type": "markdown",
      "source": [
        "#Code Full"
      ],
      "metadata": {
        "id": "DkeeSeUq1tyX"
      },
      "id": "DkeeSeUq1tyX"
    },
    {
      "cell_type": "code",
      "source": [
        "import numpy as np\n",
        "from collections import Counter\n",
        "\n",
        "class Node:\n",
        "    def __init__(self, feature=None, threshold=None, left=None, right=None, *, value=None):\n",
        "        self.feature = feature          # Chỉ số thuộc tính\n",
        "        self.threshold = threshold      # Ngưỡng chia\n",
        "        self.left = left                # Nhánh trái\n",
        "        self.right = right              # Nhánh phải\n",
        "        self.value = value              # Nhãn nếu là node lá\n",
        "\n",
        "    def is_leaf_node(self):\n",
        "        return self.value is not None\n",
        "\n",
        "class DecisionTreeClassifier:\n",
        "    def __init__(self, max_depth=10, min_samples_split=2):\n",
        "        self.max_depth = max_depth\n",
        "        self.min_samples_split = min_samples_split\n",
        "        self.root = None\n",
        "\n",
        "    def fit(self, X, y):\n",
        "        self.root = self._grow_tree(X, y)\n",
        "\n",
        "    def _grow_tree(self, X, y, depth=0):\n",
        "        num_samples, num_features = X.shape\n",
        "        num_labels = len(set(y))\n",
        "\n",
        "        # Điều kiện dừng\n",
        "        if (depth >= self.max_depth or num_labels == 1 or num_samples < self.min_samples_split):\n",
        "            leaf_value = self._most_common_label(y)\n",
        "            return Node(value=leaf_value)\n",
        "\n",
        "        # Tìm chia tốt nhất\n",
        "        best_feat, best_thresh = self._best_split(X, y, num_features)\n",
        "        if best_feat is None:\n",
        "            leaf_value = self._most_common_label(y)\n",
        "            return Node(value=leaf_value)\n",
        "\n",
        "        # Chia tập\n",
        "        left_idxs = X[:, best_feat] <= best_thresh\n",
        "        right_idxs = X[:, best_feat] > best_thresh\n",
        "\n",
        "        left = self._grow_tree(X[left_idxs], y[left_idxs], depth + 1)\n",
        "        right = self._grow_tree(X[right_idxs], y[right_idxs], depth + 1)\n",
        "\n",
        "        return Node(best_feat, best_thresh, left, right)\n",
        "\n",
        "    def _best_split(self, X, y, num_features):\n",
        "        best_gain = -1\n",
        "        split_idx, split_thresh = None, None\n",
        "\n",
        "        for feat_idx in range(num_features):\n",
        "            thresholds = np.unique(X[:, feat_idx])\n",
        "            for threshold in thresholds:\n",
        "                left_idxs = y[X[:, feat_idx] <= threshold]\n",
        "                right_idxs = y[X[:, feat_idx] > threshold]\n",
        "\n",
        "                if len(left_idxs) == 0 or len(right_idxs) == 0:\n",
        "                    continue\n",
        "\n",
        "                gain = self._gini_gain(y, left_idxs, right_idxs)\n",
        "                if gain > best_gain:\n",
        "                    best_gain = gain\n",
        "                    split_idx = feat_idx\n",
        "                    split_thresh = threshold\n",
        "\n",
        "        return split_idx, split_thresh\n",
        "\n",
        "    def _gini_gain(self, parent, left, right):\n",
        "        weight_left = len(left) / len(parent)\n",
        "        weight_right = len(right) / len(parent)\n",
        "        return self._gini(parent) - (weight_left * self._gini(left) + weight_right * self._gini(right))\n",
        "\n",
        "    def _gini(self, y):\n",
        "        counts = np.bincount(y)\n",
        "        probs = counts / len(y)\n",
        "        return 1 - np.sum(probs**2)\n",
        "\n",
        "    def _most_common_label(self, y):\n",
        "        counter = Counter(y)\n",
        "        return counter.most_common(1)[0][0]\n",
        "\n",
        "    def predict(self, X):\n",
        "        return np.array([self._traverse_tree(x, self.root) for x in X])\n",
        "\n",
        "    def _traverse_tree(self, x, node):\n",
        "        if node.is_leaf_node():\n",
        "            return node.value\n",
        "        if x[node.feature] <= node.threshold:\n",
        "            return self._traverse_tree(x, node.left)\n",
        "        return self._traverse_tree(x, node.right)\n"
      ],
      "metadata": {
        "id": "bYZmGfvA13YN"
      },
      "id": "bYZmGfvA13YN",
      "execution_count": 2,
      "outputs": []
    },
    {
      "cell_type": "markdown",
      "source": [
        "## Đoạn mã Test Code"
      ],
      "metadata": {
        "id": "oC85HNGx4TMJ"
      },
      "id": "oC85HNGx4TMJ"
    },
    {
      "cell_type": "code",
      "source": [
        "# ===========================================\n",
        "# Test thử bộ code\n",
        "# ===========================================\n",
        "\n",
        "# Tạo bộ dữ liệu giả lập (2 đặc trưng và 2 lớp phân loại)\n",
        "X = np.array([[2, 3],\n",
        "              [3, 4],\n",
        "              [1, 1],\n",
        "              [6, 7],\n",
        "              [7, 8],\n",
        "              [5, 6]])\n",
        "\n",
        "y = np.array([0, 0, 0, 1, 1, 1])\n",
        "\n",
        "# Khởi tạo và huấn luyện mô hình Decision Tree\n",
        "model = DecisionTreeClassifier(max_depth=3, min_samples_split=2)\n",
        "model.fit(X, y)\n",
        "\n",
        "# Dự đoán cho các mẫu trong X\n",
        "y_pred = model.predict(X)\n",
        "\n",
        "# In kết quả dự đoán\n",
        "print(\"Dự đoán:\", y_pred)\n",
        "\n",
        "# In cấu trúc cây (để kiểm tra cây đã được xây dựng đúng hay không)\n",
        "def print_tree(node, depth=0):\n",
        "    if node.is_leaf_node():\n",
        "        print(\"II\" * depth + f\"Leaf: {node.value}\")\n",
        "        return\n",
        "    print(\"  \" * depth + f\"Feature: {node.feature}, Threshold: {node.threshold}\")\n",
        "    print_tree(node.left, depth + 1)\n",
        "    print_tree(node.right, depth + 1)\n",
        "\n",
        "# In cây quyết định đã học được\n",
        "print(\"Cấu trúc cây quyết định:\")\n",
        "print_tree(model.root)\n"
      ],
      "metadata": {
        "colab": {
          "base_uri": "https://localhost:8080/"
        },
        "id": "LEXDoLYK4WpB",
        "outputId": "4a0966f1-1551-487f-d6fd-7091b6294a44"
      },
      "id": "LEXDoLYK4WpB",
      "execution_count": 3,
      "outputs": [
        {
          "output_type": "stream",
          "name": "stdout",
          "text": [
            "Dự đoán: [0 0 0 1 1 1]\n",
            "Cấu trúc cây quyết định:\n",
            "Feature: 0, Threshold: 3\n",
            "IILeaf: 0\n",
            "IILeaf: 1\n"
          ]
        }
      ]
    }
  ],
  "metadata": {
    "kernelspec": {
      "display_name": "Python 3",
      "language": "python",
      "name": "python3"
    },
    "language_info": {
      "codemirror_mode": {
        "name": "ipython",
        "version": 3
      },
      "file_extension": ".py",
      "mimetype": "text/x-python",
      "name": "python",
      "nbconvert_exporter": "python",
      "pygments_lexer": "ipython3",
      "version": "3.12.3"
    },
    "colab": {
      "provenance": []
    }
  },
  "nbformat": 4,
  "nbformat_minor": 5
}